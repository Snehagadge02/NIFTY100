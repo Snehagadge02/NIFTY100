{
 "cells": [
  {
   "cell_type": "code",
   "execution_count": 18,
   "id": "7009bb54",
   "metadata": {},
   "outputs": [],
   "source": [
    "# Import necessary libraries\n",
    "import pandas as pd\n",
    "import numpy as np\n",
    "from ta.trend import ADXIndicator\n",
    "from ta.volatility import AverageTrueRange\n",
    "from ta.momentum import RSIIndicator\n",
    "from sklearn.ensemble import RandomForestClassifier\n",
    "from xgboost import XGBClassifier\n",
    "from sklearn.model_selection import train_test_split\n",
    "from sklearn.preprocessing import StandardScaler\n",
    "from sklearn.metrics import accuracy_score\n"
   ]
  },
  {
   "cell_type": "code",
   "execution_count": 19,
   "id": "361d9311",
   "metadata": {},
   "outputs": [],
   "source": [
    "# Step 1: Load Dataset\n",
    "file_path = 'NIFTY 100.csv'\n",
    "df = pd.read_csv(file_path, parse_dates=['Date'])\n"
   ]
  },
  {
   "cell_type": "code",
   "execution_count": 20,
   "id": "43dcf33d",
   "metadata": {},
   "outputs": [],
   "source": [
    "# Step 2: Handle Missing Values\n",
    "df = df.ffill()\n"
   ]
  },
  {
   "cell_type": "code",
   "execution_count": 21,
   "id": "439f5bc7",
   "metadata": {},
   "outputs": [],
   "source": [
    "# Step 3: Feature Engineering\n",
    "def compute_indicators(data):\n",
    "    data['MA_20'] = data['Close'].rolling(window=20).mean()\n",
    "    data['RSI'] = RSIIndicator(data['Close'], window=14).rsi()\n",
    "    data['ADX'] = ADXIndicator(data['High'], data['Low'], data['Close'], window=14).adx()\n",
    "    data['ATR'] = AverageTrueRange(data['High'], data['Low'], data['Close'], window=14).average_true_range()\n",
    "    data.dropna(inplace=True)\n",
    "    return data\n",
    "df = compute_indicators(df)\n"
   ]
  },
  {
   "cell_type": "code",
   "execution_count": 22,
   "id": "c6d78023",
   "metadata": {
    "scrolled": true
   },
   "outputs": [],
   "source": [
    "# Step 4: Assign Target Variable (Ranking Stocks)\n",
    "def assign_labels(data):\n",
    "    data = data.sort_values(by=['Date', 'Close'], ascending=[True, False]).reset_index(drop=True)\n",
    "    data['Rank'] = data.groupby('Date')['Close'].rank(method='first', ascending=False)\n",
    "    data['Target'] = data['Rank'].apply(lambda x: 1 if x == 1 else 0)\n",
    "    return data.drop(columns=['Rank'])\n",
    "\n",
    "df = assign_labels(df)\n"
   ]
  },
  {
   "cell_type": "code",
   "execution_count": 23,
   "id": "8168a0c7",
   "metadata": {},
   "outputs": [
    {
     "name": "stdout",
     "output_type": "stream",
     "text": [
      "Accuracy: 1.0\n"
     ]
    }
   ],
   "source": [
    "# Step 5: Train the Model\n",
    "def train_model(data):\n",
    "    features = ['MA_20', 'RSI', 'ADX', 'ATR']\n",
    "    X = data[features]\n",
    "    y = data['Target']\n",
    "    \n",
    "    scaler = StandardScaler()\n",
    "    X_scaled = scaler.fit_transform(X)\n",
    "    \n",
    "    X_train, X_test, y_train, y_test = train_test_split(X_scaled, y, test_size=0.2, random_state=42)\n",
    "    \n",
    "    model = RandomForestClassifier(n_estimators=100, random_state=42)\n",
    "    model.fit(X_train, y_train)\n",
    "    predictions = model.predict(X_test)\n",
    "    \n",
    "    print(f'Accuracy: {accuracy_score(y_test, predictions)}')\n",
    "    return model, scaler\n",
    "model, scaler = train_model(df)\n"
   ]
  },
  {
   "cell_type": "code",
   "execution_count": 24,
   "id": "0fb10b94",
   "metadata": {},
   "outputs": [
    {
     "name": "stdout",
     "output_type": "stream",
     "text": [
      "           Date     Open     High      Low    Close        Volume  \\\n",
      "0    2005-09-19     0.00     0.00     0.00  2545.24  1.535458e+08   \n",
      "1    2005-09-20     0.00     0.00     0.00  2552.90  1.609333e+08   \n",
      "2    2005-09-21     0.00     0.00     0.00  2537.10  1.911060e+08   \n",
      "3    2005-09-22     0.00     0.00     0.00  2441.97  1.864161e+08   \n",
      "4    2005-09-23     0.00     0.00     0.00  2444.67  1.391900e+08   \n",
      "...         ...      ...      ...      ...      ...           ...   \n",
      "3619 2020-05-04  9682.65  9683.25  9430.35  9454.05  1.643802e+09   \n",
      "3620 2020-05-05  9591.70  9615.80  9344.55  9358.90  1.220003e+09   \n",
      "3621 2020-05-06  9379.35  9489.25  9266.10  9428.55  1.455393e+09   \n",
      "3622 2020-05-07  9394.25  9437.80  9335.50  9351.45  1.076714e+09   \n",
      "3623 2020-05-08  9522.65  9528.35  9395.45  9408.65  1.011498e+09   \n",
      "\n",
      "          Turnover    P/E   P/B  Div Yield      MA_20        RSI        ADX  \\\n",
      "0     2.947050e+10  16.43  3.77       1.71  2404.8055  80.218399   0.000000   \n",
      "1     4.021090e+10  16.48  3.78       1.70  2415.0210  80.846592   0.000000   \n",
      "2     4.722660e+10  16.38  3.76       1.71  2426.5790  75.519345   0.000000   \n",
      "3     4.244680e+10  15.76  3.62       1.78  2433.7430  52.912335   0.000000   \n",
      "4     3.619250e+10  15.78  3.62       1.78  2439.5845  53.339275   0.000000   \n",
      "...            ...    ...   ...        ...        ...        ...        ...   \n",
      "3619  4.815419e+11  23.57  2.69       1.61  9222.5300  49.892779  21.027296   \n",
      "3620  3.730502e+11  23.35  2.67       1.62  9253.9175  48.416174  19.709053   \n",
      "3621  3.824556e+11  23.53  2.69       1.61  9305.1375  49.592212  18.693534   \n",
      "3622  6.521651e+11  23.33  2.66       1.63  9360.7000  48.280033  17.750551   \n",
      "3623  3.648511e+11  23.45  2.68       1.62  9384.4025  49.350760  16.584286   \n",
      "\n",
      "              ATR  Target  Predicted_Label  \n",
      "0     2393.231487       1                1  \n",
      "1     2404.089238       1                1  \n",
      "2     2414.718578       1                1  \n",
      "3     2423.460108       1                1  \n",
      "4     2424.782243       1                1  \n",
      "...           ...     ...              ...  \n",
      "3619   349.569793       1                1  \n",
      "3620   343.975522       1                1  \n",
      "3621   335.345127       1                1  \n",
      "3622   318.699047       1                1  \n",
      "3623   308.570544       1                1  \n",
      "\n",
      "[3624 rows x 16 columns]\n"
     ]
    }
   ],
   "source": [
    "# Step 6: Backtesting\n",
    "def backtest_model(model, scaler, data):\n",
    "    features = ['MA_20', 'RSI', 'ADX', 'ATR']\n",
    "    X = scaler.transform(data[features])\n",
    "    data['Predicted_Label'] = model.predict(X)\n",
    "    return data[data['Predicted_Label'] == 1]  # Top-performing stocks\n",
    "top_stocks = backtest_model(model, scaler, df)\n",
    "print(top_stocks)\n"
   ]
  },
  {
   "cell_type": "code",
   "execution_count": null,
   "id": "2a3cdf5c-be6e-4ee2-8d00-ce50bed6423e",
   "metadata": {},
   "outputs": [],
   "source": []
  },
  {
   "cell_type": "code",
   "execution_count": null,
   "id": "96590dc7-6eb2-42ad-a0bd-985bda242413",
   "metadata": {},
   "outputs": [],
   "source": []
  }
 ],
 "metadata": {
  "kernelspec": {
   "display_name": "Python 3 (ipykernel)",
   "language": "python",
   "name": "python3"
  },
  "language_info": {
   "codemirror_mode": {
    "name": "ipython",
    "version": 3
   },
   "file_extension": ".py",
   "mimetype": "text/x-python",
   "name": "python",
   "nbconvert_exporter": "python",
   "pygments_lexer": "ipython3",
   "version": "3.12.7"
  }
 },
 "nbformat": 4,
 "nbformat_minor": 5
}
